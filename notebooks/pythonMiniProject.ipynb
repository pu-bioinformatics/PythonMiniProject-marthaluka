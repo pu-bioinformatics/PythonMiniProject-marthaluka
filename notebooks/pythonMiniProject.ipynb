{
 "cells": [
  {
   "cell_type": "code",
   "execution_count": 67,
   "metadata": {},
   "outputs": [
    {
     "data": {
      "text/plain": [
       "'/Users/user/Documents/Program1/github/PythonMiniProject-marthaluka'"
      ]
     },
     "execution_count": 67,
     "metadata": {},
     "output_type": "execute_result"
    }
   ],
   "source": [
    "pwd"
   ]
  },
  {
   "cell_type": "markdown",
   "metadata": {},
   "source": [
    "# Question 1"
   ]
  },
  {
   "cell_type": "markdown",
   "metadata": {},
   "source": [
    "OpenaPDBFile: This function allows the user to indicatea PATH for the  file to be analyzed. The software should be able to manage errors with the given path (e.g. File not found). The data from the file should be then load in memory, and display error messages in case the file does not follow the PDB Format.\n",
    "\n",
    "Execution Example:\n",
    " \n",
    " :O\n",
    " Enter a Valid PATH for a PDB File: 3AYU.pdb\n",
    " \n",
    " The File 3AYU.pdb has been successfully loaded\n",
    "\n",
    "When a file is successfully loaded the bottom right message of the main menu has to display the file name.\n",
    "If a file has been loaded before, a message asking for a confirmation of replacing the current file should be displayed."
   ]
  },
  {
   "cell_type": "code",
   "execution_count": 1,
   "metadata": {},
   "outputs": [],
   "source": [
    "#OpenaPDBFile:ThisfunctionallowstheusertoindicateaPATHforthefiletobe analyzed. \n",
    "#The software should be able to manage errors with the given path (e.g. File not found)\n",
    "#Give a menu of choices\n",
    "#Check if a file is already open\n",
    "\n",
    "import os.path\n",
    "import sys\n",
    "\n",
    "def printTitle (my_file):                                #get name of pdb file as saved by the user\n",
    "    sep = \"/\"\n",
    "    for i in my_file:\n",
    "        i=i.replace(sep, \" \")\n",
    "    path=my_file.split(\"/\")\n",
    "    fileName = path[-1]\n",
    "    return fileName\n",
    "\n",
    "def printOptions(my_file=\"None\"):                            #print out options by the user\n",
    "    print (\"\"\"\n",
    "********************************************************************************\n",
    "* PDB FILE ANALYZER                                                            *\n",
    "********************************************************************************\n",
    "* Select an option from below:                                                 *\n",
    "*                                                                              *\n",
    "* 1) Open a PDB File (O)                                                       *\n",
    "* 2) Information (I)                                                           *\n",
    "* 3) Show histogram of amino acids (H)                                         *\n",
    "* 4) Display Secondary Structure (S)                                           *\n",
    "* 5) Export PDB File (X)                                                       *\n",
    "* 6)Exit (Q)                                                                   *\n",
    "*                                                                              *\n",
    "*                                                         Current PDB: %s    *\n",
    "********************************************************************************\n",
    "\"\"\" % (printTitle (my_file)))\n",
    "    option = input ()\n",
    "    optionsMenu (option, my_file)\n",
    "    \n",
    "def optionsMenu (option, my_file):                             #menu to handle the user input\n",
    "    if option.lower() in ('o', 'i', 'h', 's', 'x', 'q'):\n",
    "        if option.lower() == 'o':                              #open pdb\n",
    "            askFileName(my_file)\n",
    "        elif option.lower() == 'i':\n",
    "            pass\n",
    "        elif option.lower() == 'h':\n",
    "            pass\n",
    "        elif option.lower() == 's':\n",
    "            pass\n",
    "        elif option.lower() == 'x':\n",
    "            pass\n",
    "        elif option.lower() == 's':\n",
    "            pass\n",
    "        elif option.lower() == 'x':\n",
    "            pass\n",
    "        elif option.lower() == 'q':                         ## Question 5\n",
    "            pass             \n",
    "    else:\n",
    "        print (\"Wrong choice!\")\n",
    "    \n",
    "def askFileName (my_file=\"None\"):                    #input path to file. Default is none\n",
    "    if my_file == \"None\":\n",
    "        my_file=input (\"Please input file name: \")\n",
    "        if os.path.exists(my_file):\n",
    "            my_pdb_file = open(my_file, \"r\")\n",
    "            print (\"The file %s has been successfully loaded\" % printTitle (my_file))\n",
    "            printOptions (my_file)\n",
    "        else:\n",
    "            print (\"Oops! We can't seem to find that file. Please try again\")\n",
    "            askFileName (my_file=\"None\")\n",
    "    else:\n",
    "        loadAnotherFile (my_file)\n",
    "        \n",
    "def loadAnotherFile (my_file):                        #if user asks to load a file while another is already open\n",
    "    reply = input (\"\"\"\n",
    "    A file is already open. \n",
    "    Would you like to replace the current file? \n",
    "    Please enter y for yes or n for no:\n",
    "    \"\"\")                            \n",
    "    if reply.lower() == \"y\":\n",
    "        askFileName ()           \n",
    "    else:\n",
    "        printOptions (my_file)\n",
    "            "
   ]
  },
  {
   "cell_type": "code",
   "execution_count": 2,
   "metadata": {},
   "outputs": [
    {
     "name": "stdout",
     "output_type": "stream",
     "text": [
      "\n",
      "********************************************************************************\n",
      "* PDB FILE ANALYZER                                                            *\n",
      "********************************************************************************\n",
      "* Select an option from below:                                                 *\n",
      "*                                                                              *\n",
      "* 1) Open a PDB File (O)                                                       *\n",
      "* 2) Information (I)                                                           *\n",
      "* 3) Show histogram of amino acids (H)                                         *\n",
      "* 4) Display Secondary Structure (S)                                           *\n",
      "* 5) Export PDB File (X)                                                       *\n",
      "* 6)Exit (Q)                                                                   *\n",
      "*                                                                              *\n",
      "*                                                         Current PDB: None    *\n",
      "********************************************************************************\n",
      "\n"
     ]
    },
    {
     "ename": "KeyboardInterrupt",
     "evalue": "",
     "output_type": "error",
     "traceback": [
      "\u001b[0;31m---------------------------------------------------------------------------\u001b[0m",
      "\u001b[0;31mKeyboardInterrupt\u001b[0m                         Traceback (most recent call last)",
      "\u001b[0;32m~/miniconda2/envs/py37/lib/python3.7/site-packages/ipykernel/kernelbase.py\u001b[0m in \u001b[0;36m_input_request\u001b[0;34m(self, prompt, ident, parent, password)\u001b[0m\n\u001b[1;32m    877\u001b[0m             \u001b[0;32mtry\u001b[0m\u001b[0;34m:\u001b[0m\u001b[0;34m\u001b[0m\u001b[0;34m\u001b[0m\u001b[0m\n\u001b[0;32m--> 878\u001b[0;31m                 \u001b[0mident\u001b[0m\u001b[0;34m,\u001b[0m \u001b[0mreply\u001b[0m \u001b[0;34m=\u001b[0m \u001b[0mself\u001b[0m\u001b[0;34m.\u001b[0m\u001b[0msession\u001b[0m\u001b[0;34m.\u001b[0m\u001b[0mrecv\u001b[0m\u001b[0;34m(\u001b[0m\u001b[0mself\u001b[0m\u001b[0;34m.\u001b[0m\u001b[0mstdin_socket\u001b[0m\u001b[0;34m,\u001b[0m \u001b[0;36m0\u001b[0m\u001b[0;34m)\u001b[0m\u001b[0;34m\u001b[0m\u001b[0;34m\u001b[0m\u001b[0m\n\u001b[0m\u001b[1;32m    879\u001b[0m             \u001b[0;32mexcept\u001b[0m \u001b[0mException\u001b[0m\u001b[0;34m:\u001b[0m\u001b[0;34m\u001b[0m\u001b[0;34m\u001b[0m\u001b[0m\n",
      "\u001b[0;32m~/miniconda2/envs/py37/lib/python3.7/site-packages/jupyter_client/session.py\u001b[0m in \u001b[0;36mrecv\u001b[0;34m(self, socket, mode, content, copy)\u001b[0m\n\u001b[1;32m    802\u001b[0m         \u001b[0;32mtry\u001b[0m\u001b[0;34m:\u001b[0m\u001b[0;34m\u001b[0m\u001b[0;34m\u001b[0m\u001b[0m\n\u001b[0;32m--> 803\u001b[0;31m             \u001b[0mmsg_list\u001b[0m \u001b[0;34m=\u001b[0m \u001b[0msocket\u001b[0m\u001b[0;34m.\u001b[0m\u001b[0mrecv_multipart\u001b[0m\u001b[0;34m(\u001b[0m\u001b[0mmode\u001b[0m\u001b[0;34m,\u001b[0m \u001b[0mcopy\u001b[0m\u001b[0;34m=\u001b[0m\u001b[0mcopy\u001b[0m\u001b[0;34m)\u001b[0m\u001b[0;34m\u001b[0m\u001b[0;34m\u001b[0m\u001b[0m\n\u001b[0m\u001b[1;32m    804\u001b[0m         \u001b[0;32mexcept\u001b[0m \u001b[0mzmq\u001b[0m\u001b[0;34m.\u001b[0m\u001b[0mZMQError\u001b[0m \u001b[0;32mas\u001b[0m \u001b[0me\u001b[0m\u001b[0;34m:\u001b[0m\u001b[0;34m\u001b[0m\u001b[0;34m\u001b[0m\u001b[0m\n",
      "\u001b[0;32m~/miniconda2/envs/py37/lib/python3.7/site-packages/zmq/sugar/socket.py\u001b[0m in \u001b[0;36mrecv_multipart\u001b[0;34m(self, flags, copy, track)\u001b[0m\n\u001b[1;32m    469\u001b[0m         \"\"\"\n\u001b[0;32m--> 470\u001b[0;31m         \u001b[0mparts\u001b[0m \u001b[0;34m=\u001b[0m \u001b[0;34m[\u001b[0m\u001b[0mself\u001b[0m\u001b[0;34m.\u001b[0m\u001b[0mrecv\u001b[0m\u001b[0;34m(\u001b[0m\u001b[0mflags\u001b[0m\u001b[0;34m,\u001b[0m \u001b[0mcopy\u001b[0m\u001b[0;34m=\u001b[0m\u001b[0mcopy\u001b[0m\u001b[0;34m,\u001b[0m \u001b[0mtrack\u001b[0m\u001b[0;34m=\u001b[0m\u001b[0mtrack\u001b[0m\u001b[0;34m)\u001b[0m\u001b[0;34m]\u001b[0m\u001b[0;34m\u001b[0m\u001b[0;34m\u001b[0m\u001b[0m\n\u001b[0m\u001b[1;32m    471\u001b[0m         \u001b[0;31m# have first part already, only loop while more to receive\u001b[0m\u001b[0;34m\u001b[0m\u001b[0;34m\u001b[0m\u001b[0;34m\u001b[0m\u001b[0m\n",
      "\u001b[0;32mzmq/backend/cython/socket.pyx\u001b[0m in \u001b[0;36mzmq.backend.cython.socket.Socket.recv\u001b[0;34m()\u001b[0m\n",
      "\u001b[0;32mzmq/backend/cython/socket.pyx\u001b[0m in \u001b[0;36mzmq.backend.cython.socket.Socket.recv\u001b[0;34m()\u001b[0m\n",
      "\u001b[0;32mzmq/backend/cython/socket.pyx\u001b[0m in \u001b[0;36mzmq.backend.cython.socket._recv_copy\u001b[0;34m()\u001b[0m\n",
      "\u001b[0;32m~/miniconda2/envs/py37/lib/python3.7/site-packages/zmq/backend/cython/checkrc.pxd\u001b[0m in \u001b[0;36mzmq.backend.cython.checkrc._check_rc\u001b[0;34m()\u001b[0m\n",
      "\u001b[0;31mKeyboardInterrupt\u001b[0m: ",
      "\nDuring handling of the above exception, another exception occurred:\n",
      "\u001b[0;31mKeyboardInterrupt\u001b[0m                         Traceback (most recent call last)",
      "\u001b[0;32m<ipython-input-2-c73c4ee89282>\u001b[0m in \u001b[0;36m<module>\u001b[0;34m\u001b[0m\n\u001b[0;32m----> 1\u001b[0;31m \u001b[0mprintOptions\u001b[0m\u001b[0;34m(\u001b[0m\u001b[0;34m)\u001b[0m\u001b[0;34m\u001b[0m\u001b[0;34m\u001b[0m\u001b[0m\n\u001b[0m",
      "\u001b[0;32m<ipython-input-1-2d3c2cd6887b>\u001b[0m in \u001b[0;36mprintOptions\u001b[0;34m(my_file)\u001b[0m\n\u001b[1;32m     32\u001b[0m \u001b[0;34m**\u001b[0m\u001b[0;34m**\u001b[0m\u001b[0;34m**\u001b[0m\u001b[0;34m**\u001b[0m\u001b[0;34m**\u001b[0m\u001b[0;34m**\u001b[0m\u001b[0;34m**\u001b[0m\u001b[0;34m**\u001b[0m\u001b[0;34m**\u001b[0m\u001b[0;34m**\u001b[0m\u001b[0;34m**\u001b[0m\u001b[0;34m**\u001b[0m\u001b[0;34m**\u001b[0m\u001b[0;34m**\u001b[0m\u001b[0;34m**\u001b[0m\u001b[0;34m**\u001b[0m\u001b[0;34m**\u001b[0m\u001b[0;34m**\u001b[0m\u001b[0;34m**\u001b[0m\u001b[0;34m**\u001b[0m\u001b[0;34m**\u001b[0m\u001b[0;34m**\u001b[0m\u001b[0;34m**\u001b[0m\u001b[0;34m**\u001b[0m\u001b[0;34m**\u001b[0m\u001b[0;34m**\u001b[0m\u001b[0;34m**\u001b[0m\u001b[0;34m**\u001b[0m\u001b[0;34m**\u001b[0m\u001b[0;34m**\u001b[0m\u001b[0;34m**\u001b[0m\u001b[0;34m**\u001b[0m\u001b[0;34m**\u001b[0m\u001b[0;34m**\u001b[0m\u001b[0;34m**\u001b[0m\u001b[0;34m**\u001b[0m\u001b[0;34m**\u001b[0m\u001b[0;34m**\u001b[0m\u001b[0;34m**\u001b[0m\u001b[0;34m**\u001b[0m\u001b[0;34m\u001b[0m\u001b[0;34m\u001b[0m\u001b[0m\n\u001b[1;32m     33\u001b[0m \"\"\" % (printTitle (my_file)))\n\u001b[0;32m---> 34\u001b[0;31m     \u001b[0moption\u001b[0m \u001b[0;34m=\u001b[0m \u001b[0minput\u001b[0m \u001b[0;34m(\u001b[0m\u001b[0;34m)\u001b[0m\u001b[0;34m\u001b[0m\u001b[0;34m\u001b[0m\u001b[0m\n\u001b[0m\u001b[1;32m     35\u001b[0m     \u001b[0moptionsMenu\u001b[0m \u001b[0;34m(\u001b[0m\u001b[0moption\u001b[0m\u001b[0;34m,\u001b[0m \u001b[0mmy_file\u001b[0m\u001b[0;34m)\u001b[0m\u001b[0;34m\u001b[0m\u001b[0;34m\u001b[0m\u001b[0m\n\u001b[1;32m     36\u001b[0m \u001b[0;34m\u001b[0m\u001b[0m\n",
      "\u001b[0;32m~/miniconda2/envs/py37/lib/python3.7/site-packages/ipykernel/kernelbase.py\u001b[0m in \u001b[0;36mraw_input\u001b[0;34m(self, prompt)\u001b[0m\n\u001b[1;32m    851\u001b[0m             \u001b[0mself\u001b[0m\u001b[0;34m.\u001b[0m\u001b[0m_parent_ident\u001b[0m\u001b[0;34m,\u001b[0m\u001b[0;34m\u001b[0m\u001b[0;34m\u001b[0m\u001b[0m\n\u001b[1;32m    852\u001b[0m             \u001b[0mself\u001b[0m\u001b[0;34m.\u001b[0m\u001b[0m_parent_header\u001b[0m\u001b[0;34m,\u001b[0m\u001b[0;34m\u001b[0m\u001b[0;34m\u001b[0m\u001b[0m\n\u001b[0;32m--> 853\u001b[0;31m             \u001b[0mpassword\u001b[0m\u001b[0;34m=\u001b[0m\u001b[0;32mFalse\u001b[0m\u001b[0;34m,\u001b[0m\u001b[0;34m\u001b[0m\u001b[0;34m\u001b[0m\u001b[0m\n\u001b[0m\u001b[1;32m    854\u001b[0m         )\n\u001b[1;32m    855\u001b[0m \u001b[0;34m\u001b[0m\u001b[0m\n",
      "\u001b[0;32m~/miniconda2/envs/py37/lib/python3.7/site-packages/ipykernel/kernelbase.py\u001b[0m in \u001b[0;36m_input_request\u001b[0;34m(self, prompt, ident, parent, password)\u001b[0m\n\u001b[1;32m    881\u001b[0m             \u001b[0;32mexcept\u001b[0m \u001b[0mKeyboardInterrupt\u001b[0m\u001b[0;34m:\u001b[0m\u001b[0;34m\u001b[0m\u001b[0;34m\u001b[0m\u001b[0m\n\u001b[1;32m    882\u001b[0m                 \u001b[0;31m# re-raise KeyboardInterrupt, to truncate traceback\u001b[0m\u001b[0;34m\u001b[0m\u001b[0;34m\u001b[0m\u001b[0;34m\u001b[0m\u001b[0m\n\u001b[0;32m--> 883\u001b[0;31m                 \u001b[0;32mraise\u001b[0m \u001b[0mKeyboardInterrupt\u001b[0m\u001b[0;34m\u001b[0m\u001b[0;34m\u001b[0m\u001b[0m\n\u001b[0m\u001b[1;32m    884\u001b[0m             \u001b[0;32melse\u001b[0m\u001b[0;34m:\u001b[0m\u001b[0;34m\u001b[0m\u001b[0;34m\u001b[0m\u001b[0m\n\u001b[1;32m    885\u001b[0m                 \u001b[0;32mbreak\u001b[0m\u001b[0;34m\u001b[0m\u001b[0;34m\u001b[0m\u001b[0m\n",
      "\u001b[0;31mKeyboardInterrupt\u001b[0m: "
     ]
    }
   ],
   "source": [
    "printOptions()"
   ]
  },
  {
   "cell_type": "markdown",
   "metadata": {},
   "source": [
    "# Question 2"
   ]
  },
  {
   "cell_type": "markdown",
   "metadata": {},
   "source": [
    "Information: A summary of the file information should be displayed. It should include the filename and title. \n",
    "\n",
    "Notice that a PDB file can include information of more than one chain in the same structure.\n",
    "\n",
    "When displaying a sequence each line should have a maximum of 50 amino acids. \n",
    "\n",
    "Execution Example:"
   ]
  },
  {
   "cell_type": "code",
   "execution_count": 15,
   "metadata": {},
   "outputs": [],
   "source": [
    "my_pdb_file=open(\"../data/3AYU.pdb\", \"r\")\n",
    "def printFile (my_pdb_file):                         #extract name of pdb file\n",
    "    my_pdb_file.seek(0)\n",
    "    for line in my_pdb_file: \n",
    "        if line.startswith('HEADER'):\n",
    "            print(\"PDB file: %s\" %line[59:].strip())\n",
    "        printTitle (my_pdb_file)\n",
    "           \n",
    "\n",
    "def chains (my_pdb_file):                         #chains in protein\n",
    "    my_pdb_file.seek(0)\n",
    "    chainsSet = set()                                 ##to ensure only unique entries, use a set instead of a list\n",
    "    for line in my_pdb_file:\n",
    "        if line.startswith (\"SEQRES\"):\n",
    "            chainsSet.add(line[11])\n",
    "    chainsList=list(chainsSet)\n",
    "    chainsList.sort()\n",
    "    return chainsList\n",
    "\n",
    "chainsInProtein=chains (my_pdb_file)\n",
    "\n",
    "\n",
    "def printChains (chainsList): \n",
    "    k=' and '.join(chainsList)\n",
    "    print (\"CHAINS: %s\" % k)\n",
    "    for i in chainsInProtein:\n",
    "        a=my_dict.get(i)\n",
    "        b=helixDict.get(i)\n",
    "        c=sheetsDict.get(i)\n",
    "        d=aminoAcidsInChains2.get(i)\n",
    "        printInfo(i,a,b,c,d)\n",
    "    \n",
    "def printTitle (my_pdb_file):                           #Title of the pdb file\n",
    "    my_pdb_file.seek(0)\n",
    "    empty_str =\"\"\n",
    "    for line in my_pdb_file:\n",
    "        if line.startswith('TITLE'): \n",
    "            empty_str += line[5:].strip()\n",
    "    print (\"TITLE: %s\" %empty_str)\n",
    "    chainsInProtein=chains (my_pdb_file)\n",
    "    printChains(chainsInProtein)\n",
    "\n",
    "\n",
    "\n",
    "def helicesPerChain (chainsInProtein,my_pdb_file):\n",
    "    my_pdb_file.seek(0)\n",
    "    helixDict ={}                              #initiating an empty dict for helices\n",
    "    for i in chainsInProtein:\n",
    "        helixDict[i]=0\n",
    "    for line in my_pdb_file:\n",
    "        if line.startswith('HELIX') and line[19] in chainsInProtein:\n",
    "            helixDict[line[19]] += 1           #number of helices in the different chains of the protein\n",
    "    return helixDict\n",
    "    \n",
    "    \n",
    "def sheetsPerChain (chainsInProtein,my_pdb_file):\n",
    "    my_pdb_file.seek(0)\n",
    "    sheetsDict ={}                             #initiating an empty dict for helices\n",
    "    for i in chainsInProtein:\n",
    "        sheetsDict[i]=0\n",
    "    for line in my_pdb_file:\n",
    "        if line.startswith('SHEET') and line[21] in chainsInProtein:\n",
    "            sheetsDict[line[21]] += 1         #number of sheets in the different chains of the protein\n",
    "    return sheetsDict\n",
    "            \n",
    "\n",
    "def AANumberPerChain (my_pdb_file,chainsInProtein):\n",
    "    my_pdb_file.seek(0)\n",
    "    NumberOfAAPerChainList = []                           \n",
    "    for line in my_pdb_file:\n",
    "        if line.startswith (\"SEQRES\"):\n",
    "            NumberOfAAPerChainList.append(line[12:17].strip())\n",
    "\n",
    "    NumberOfAAPerChainList2=[]\n",
    "    for i in NumberOfAAPerChainList:\n",
    "        if i not in NumberOfAAPerChainList2:                           #unique numbers\n",
    "            NumberOfAAPerChainList2.append(i)\n",
    "\n",
    "    if len(NumberOfAAPerChainList2)<len(chainsInProtein):\n",
    "        NumberOfAAPerChainList2.append(NumberOfAAPerChainList2[-1])\n",
    "    my_dict=dict(zip(chainsInProtein,NumberOfAAPerChainList2))\n",
    "    return my_dict\n",
    "            \n",
    "def AAsequencePerChain(my_pdb_file, chainsInProtein):\n",
    "    my_pdb_file.seek(0)\n",
    "    aminoAcidsInChains ={}\n",
    "    aaDict = {'CYS': 'C','ASP': 'D','SER': 'S','GLN': 'Q','LYS': 'K','ILE': 'I','PRO': 'P','THR': 'T','PHE': 'F','ASN': 'N','GLY': 'G','HIS': 'H','LEU': 'L','ARG': 'R','TRP': 'W','ALA': 'A','VAL': 'V','GLU': 'E','TYR': 'Y','MET': 'M'}\n",
    "    for i in chainsInProtein:\n",
    "        aminoAcidsInChains[i]=\"\"\n",
    "\n",
    "    for line in my_pdb_file:\n",
    "        if line.startswith('SEQRES') and line[11] in chainsInProtein:\n",
    "            aminoAcidsInChains[line[11]]+= (line[19:].strip())+\" \"   #extract 3 letter words from file\n",
    "\n",
    "    aminoAcidsInChains2 ={}\n",
    "    for i in chainsInProtein:\n",
    "        aminoAcidsInChains2[i]=\"\"\n",
    "        a=aminoAcidsInChains.get(i)\n",
    "        AAInChainList=a.split()\n",
    "\n",
    "        for aa in AAInChainList:            #extract one letter symbols using dict\n",
    "            n=aaDict.get(aa)\n",
    "            aminoAcidsInChains2[i]+=\"\".join(n)\n",
    "            \n",
    "    for i in chainsInProtein:\n",
    "        count=0\n",
    "        multiLineSeq=\"\"\n",
    "        for aa in aminoAcidsInChains2[i]:\n",
    "            count+=1\n",
    "            multiLineSeq+=aa\n",
    "            if count%50==0:\n",
    "                multiLineSeq+=\"\\n\"\n",
    "            aminoAcidsInChains2[i]=multiLineSeq      \n",
    "\n",
    "    return (aminoAcidsInChains2)           \n",
    "\n",
    "\n",
    "\n",
    "def printInfo(chain,aaNumber, helicesInChain, sheetsInChain, aaSeq):\n",
    "    print (\"\"\"\n",
    "    - CHAIN %s\n",
    "        Number of amino acids: %s \n",
    "        Number of helix: %s\n",
    "        Number of sheet: %s \n",
    "        Sequence: %s\n",
    "                 \"\"\" % (chain,aaNumber, helicesInChain, sheetsInChain, aaSeq))\n",
    "\n",
    "        \n",
    "        \n",
    "helixDict= helicesPerChain (chainsInProtein,my_pdb_file) \n",
    "sheetsDict=sheetsPerChain (chainsInProtein,my_pdb_file)\n",
    "aaNumber=AANumberPerChain (my_pdb_file,chainsInProtein)\n",
    "aminoAcidsInChains2= AAsequencePerChain(my_pdb_file, chainsInProtein)\n",
    "\n",
    "        \n"
   ]
  },
  {
   "cell_type": "code",
   "execution_count": 16,
   "metadata": {},
   "outputs": [
    {
     "data": {
      "text/plain": [
       "{'A': '167', 'B': '10'}"
      ]
     },
     "execution_count": 16,
     "metadata": {},
     "output_type": "execute_result"
    }
   ],
   "source": [
    "AANumberPerChain (my_pdb_file,chainsInProtein)"
   ]
  },
  {
   "cell_type": "code",
   "execution_count": 17,
   "metadata": {},
   "outputs": [
    {
     "data": {
      "text/plain": [
       "{'A': 'YNFFPRKPKWDKNQITYRIIGYTPDLDPETVDDAFARAFQVWSDVTPLRF\\nSRIHDGEADIMINFGRWEHGDGYPFDGKDGLLAHAFAPGTGVGGDSHFDD\\nDELWTLGKGVGYSLFLVAAHAFGHAMGLEHSQDPGALMAPIYTYTKNFRL\\nSQDDIKGIQELYGASPD',\n",
       " 'B': 'ISYGNDALMP'}"
      ]
     },
     "execution_count": 17,
     "metadata": {},
     "output_type": "execute_result"
    }
   ],
   "source": [
    "AAsequencePerChain(my_pdb_file, chainsInProtein)"
   ]
  },
  {
   "cell_type": "code",
   "execution_count": 18,
   "metadata": {},
   "outputs": [
    {
     "name": "stdout",
     "output_type": "stream",
     "text": [
      "PDB file: 3AYU\n",
      "TITLE: CRYSTAL STRUCTURE OF MMP-2 ACTIVE SITE MUTANT IN COMPLEX WITH APP-2 DRIVED DECAPEPTIDE INHIBITOR\n",
      "CHAINS: A and B\n",
      "\n",
      "    - CHAIN A\n",
      "        Number of amino acids: 167 \n",
      "        Number of helix: 3\n",
      "        Number of sheet: 9 \n",
      "        Sequence: YNFFPRKPKWDKNQITYRIIGYTPDLDPETVDDAFARAFQVWSDVTPLRF\n",
      "SRIHDGEADIMINFGRWEHGDGYPFDGKDGLLAHAFAPGTGVGGDSHFDD\n",
      "DELWTLGKGVGYSLFLVAAHAFGHAMGLEHSQDPGALMAPIYTYTKNFRL\n",
      "SQDDIKGIQELYGASPD\n",
      "                 \n",
      "\n",
      "    - CHAIN B\n",
      "        Number of amino acids: 10 \n",
      "        Number of helix: 0\n",
      "        Number of sheet: 1 \n",
      "        Sequence: ISYGNDALMP\n",
      "                 \n"
     ]
    }
   ],
   "source": [
    "printFile (my_pdb_file)\n"
   ]
  },
  {
   "cell_type": "code",
   "execution_count": 75,
   "metadata": {},
   "outputs": [],
   "source": [
    "my_pdb_file.seek(0)\n",
    "aminoAcidsInChains ={}\n",
    "aaDict = {'CYS': 'C','ASP': 'D','SER': 'S','GLN': 'Q','LYS': 'K','ILE': 'I','PRO': 'P','THR': 'T','PHE': 'F','ASN': 'N','GLY': 'G','HIS': 'H','LEU': 'L','ARG': 'R','TRP': 'W','ALA': 'A','VAL': 'V','GLU': 'E','TYR': 'Y','MET': 'M'}\n",
    "for i in chainsInProtein:\n",
    "    aminoAcidsInChains[i]=\"\"\n",
    "\n",
    "for line in my_pdb_file:\n",
    "    if line.startswith('SEQRES') and line[11] in chainsInProtein:\n",
    "        aminoAcidsInChains[line[11]]+= (line[19:].strip())+\" \"   #extract 3 letter words from file\n",
    "\n",
    "aminoAcidsInChains2 ={}\n",
    "for i in chainsInProtein:\n",
    "    aminoAcidsInChains2[i]=\"\"\n",
    "    a=aminoAcidsInChains.get(i)\n",
    "    AAInChainList=a.split()\n",
    "\n",
    "    for aa in AAInChainList:            #extract one letter symbols using dict\n",
    "        n=aaDict.get(aa)\n",
    "        aminoAcidsInChains2[i]+=\"\".join(n)\n",
    "        \n",
    "    count=0\n",
    "    multiLineSeq=\"\"\n",
    "    for aa in aminoAcidsInChains2[i]:\n",
    "        count=+1\n",
    "        multiLineSeq+=aa\n",
    "        if count%50==0:\n",
    "            multiLineSeq+=\"\\n\"\n",
    "    aminoAcidsInChains2[i]=multiLineSeq"
   ]
  },
  {
   "cell_type": "code",
   "execution_count": 61,
   "metadata": {},
   "outputs": [
    {
     "data": {
      "text/plain": [
       "'YNFFPRKPKWDKNQITYRIIGYTPDLDPETVDDAFARAFQVWSDVTPLRFSRIHDGEADIMINFGRWEHGDGYPFDGKDGLLAHAFAPGTGVGGDSHFDDDELWTLGKGVGYSLFLVAAHAFGHAMGLEHSQDPGALMAPIYTYTKNFRLSQDDIKGIQELYGASPD'"
      ]
     },
     "execution_count": 61,
     "metadata": {},
     "output_type": "execute_result"
    }
   ],
   "source": [
    "aminoAcidsInChains2['A']"
   ]
  },
  {
   "cell_type": "code",
   "execution_count": null,
   "metadata": {},
   "outputs": [],
   "source": []
  },
  {
   "cell_type": "code",
   "execution_count": 43,
   "metadata": {},
   "outputs": [
    {
     "name": "stdout",
     "output_type": "stream",
     "text": [
      "NFFPRKPKWD\n",
      "KNQITYRIAF\n",
      "QVWSDVTVGK\n",
      "GVGYSLFLVA\n",
      "AHAFGHAMGL\n",
      "EHSQDPGALM\n",
      "APIYTYTKNF\n",
      "RLSQDDIKGI\n",
      "QEL\n"
     ]
    }
   ],
   "source": [
    "a=\"NFFPRKPKWDKNQITYRIAFQVWSDVTVGKGVGYSLFLVAAHAFGHAMGLEHSQDPGALMAPIYTYTKNFRLSQDDIKGIQEL\"\n",
    "count=0        \n",
    "b=\"\"\n",
    "for i in a:\n",
    "    b+=i\n",
    "    count+=1\n",
    "    if count%10==0:\n",
    "        b+= \"\\n\"\n",
    "\n",
    "print(b)"
   ]
  },
  {
   "cell_type": "code",
   "execution_count": 22,
   "metadata": {},
   "outputs": [],
   "source": [
    "def AAsequencePerChain(my_pdb_file, chainsInProtein):\n",
    "    my_pdb_file.seek(0)\n",
    "    aminoAcidsInChains ={}\n",
    "    aaDict = {'CYS': 'C','ASP': 'D','SER': 'S','GLN': 'Q','LYS': 'K','ILE': 'I','PRO': 'P','THR': 'T','PHE': 'F','ASN': 'N','GLY': 'G','HIS': 'H','LEU': 'L','ARG': 'R','TRP': 'W','ALA': 'A','VAL': 'V','GLU': 'E','TYR': 'Y','MET': 'M'}\n",
    "    for i in chainsInProtein:\n",
    "        aminoAcidsInChains[i]=\"\"\n",
    "\n",
    "    for line in my_pdb_file:\n",
    "        if line.startswith('SEQRES') and line[11] in chainsInProtein:\n",
    "            aminoAcidsInChains[line[11]]+= (line[19:].strip())+\" \"   #extract 3 letter words from file\n",
    "\n",
    "    aminoAcidsInChains2 ={}\n",
    "    for i in chainsInProtein:\n",
    "        aminoAcidsInChains2[i]=\"\"\n",
    "        a=aminoAcidsInChains.get(i)\n",
    "        AAInChainList=a.split()\n",
    "\n",
    "        for aa in AAInChainList:            #extract one letter symbols using dict\n",
    "            n=aaDict.get(aa)\n",
    "            aminoAcidsInChains2[i]+=\"\".join(n)\n",
    "        \n",
    "        count =0\n",
    "        for aa in aminoAcidsInChains2[i]:\n",
    "            print (aa, end ='')\n",
    "            count+=1\n",
    "            if count%50==0:\n",
    "                print (\"\")\n",
    "                \n",
    "        for aa in aminoAcidsInChains2[i]:\n",
    "            \n",
    "\n",
    "    return (aminoAcidsInChains2) "
   ]
  },
  {
   "cell_type": "code",
   "execution_count": 23,
   "metadata": {},
   "outputs": [
    {
     "name": "stdout",
     "output_type": "stream",
     "text": [
      "YNFFPRKPKWDKNQITYRIIGYTPDLDPETVDDAFARAFQVWSDVTPLRF\n",
      "SRIHDGEADIMINFGRWEHGDGYPFDGKDGLLAHAFAPGTGVGGDSHFDD\n",
      "DELWTLGKGVGYSLFLVAAHAFGHAMGLEHSQDPGALMAPIYTYTKNFRL\n",
      "SQDDIKGIQELYGASPDISYGNDALMP"
     ]
    },
    {
     "data": {
      "text/plain": [
       "{'A': 'YNFFPRKPKWDKNQITYRIIGYTPDLDPETVDDAFARAFQVWSDVTPLRFSRIHDGEADIMINFGRWEHGDGYPFDGKDGLLAHAFAPGTGVGGDSHFDDDELWTLGKGVGYSLFLVAAHAFGHAMGLEHSQDPGALMAPIYTYTKNFRLSQDDIKGIQELYGASPD',\n",
       " 'B': 'ISYGNDALMP'}"
      ]
     },
     "execution_count": 23,
     "metadata": {},
     "output_type": "execute_result"
    }
   ],
   "source": [
    "AAsequencePerChain(my_pdb_file, chainsInProtein)"
   ]
  },
  {
   "cell_type": "code",
   "execution_count": 24,
   "metadata": {},
   "outputs": [],
   "source": [
    "mydict={1:200,2:300 }"
   ]
  },
  {
   "cell_type": "code",
   "execution_count": 29,
   "metadata": {},
   "outputs": [
    {
     "data": {
      "text/plain": [
       "{1: 100, 2: 300}"
      ]
     },
     "execution_count": 29,
     "metadata": {},
     "output_type": "execute_result"
    }
   ],
   "source": [
    "mydict[1]=100\n",
    "mydict"
   ]
  },
  {
   "cell_type": "code",
   "execution_count": 32,
   "metadata": {},
   "outputs": [],
   "source": [
    "b=\"afcrfht\"\n",
    "c=\"\"\n",
    "d=0\n",
    "for i in b:\n",
    "    c+=i\n",
    "    d+=1\n",
    "    i\n",
    "    \n",
    "    \n",
    "    "
   ]
  },
  {
   "cell_type": "code",
   "execution_count": 39,
   "metadata": {},
   "outputs": [
    {
     "name": "stdout",
     "output_type": "stream",
     "text": [
      "afcrfht\n",
      "afcrfht\n"
     ]
    }
   ],
   "source": [
    "sw=b+(\"\\n\") +c\n",
    "print(sw)"
   ]
  },
  {
   "cell_type": "code",
   "execution_count": null,
   "metadata": {},
   "outputs": [],
   "source": []
  },
  {
   "cell_type": "code",
   "execution_count": null,
   "metadata": {},
   "outputs": [],
   "source": []
  },
  {
   "cell_type": "code",
   "execution_count": 231,
   "metadata": {},
   "outputs": [],
   "source": [
    "AAInChainList=AAseqAndNumber (my_pdb_file)\n",
    "def NumberOfAAPerChain (AAInChainList):\n",
    "    countAA = {}\n",
    "    for i in chainsInProtein:\n",
    "        countAA[i]=0\n",
    "        for aa in AAInChainList:\n",
    "            countAA[i]+=1\n",
    "        return countAA[i]"
   ]
  },
  {
   "cell_type": "code",
   "execution_count": 173,
   "metadata": {},
   "outputs": [
    {
     "ename": "TypeError",
     "evalue": "'NoneType' object is not iterable",
     "output_type": "error",
     "traceback": [
      "\u001b[0;31m---------------------------------------------------------------------------\u001b[0m",
      "\u001b[0;31mTypeError\u001b[0m                                 Traceback (most recent call last)",
      "\u001b[0;32m<ipython-input-173-970f513c9d93>\u001b[0m in \u001b[0;36m<module>\u001b[0;34m\u001b[0m\n\u001b[0;32m----> 1\u001b[0;31m \u001b[0mNumberOfAAPerChain\u001b[0m \u001b[0;34m(\u001b[0m\u001b[0mAAInChainList\u001b[0m\u001b[0;34m)\u001b[0m\u001b[0;34m\u001b[0m\u001b[0;34m\u001b[0m\u001b[0m\n\u001b[0m",
      "\u001b[0;32m<ipython-input-172-697d814705c9>\u001b[0m in \u001b[0;36mNumberOfAAPerChain\u001b[0;34m(AAInChainList)\u001b[0m\n\u001b[1;32m      4\u001b[0m     \u001b[0;32mfor\u001b[0m \u001b[0mi\u001b[0m \u001b[0;32min\u001b[0m \u001b[0mchainsInProtein\u001b[0m\u001b[0;34m:\u001b[0m\u001b[0;34m\u001b[0m\u001b[0;34m\u001b[0m\u001b[0m\n\u001b[1;32m      5\u001b[0m         \u001b[0mcountAA\u001b[0m\u001b[0;34m[\u001b[0m\u001b[0mi\u001b[0m\u001b[0;34m]\u001b[0m\u001b[0;34m=\u001b[0m\u001b[0;36m0\u001b[0m\u001b[0;34m\u001b[0m\u001b[0;34m\u001b[0m\u001b[0m\n\u001b[0;32m----> 6\u001b[0;31m         \u001b[0;32mfor\u001b[0m \u001b[0maa\u001b[0m \u001b[0;32min\u001b[0m \u001b[0mAAInChainList\u001b[0m\u001b[0;34m:\u001b[0m\u001b[0;34m\u001b[0m\u001b[0;34m\u001b[0m\u001b[0m\n\u001b[0m\u001b[1;32m      7\u001b[0m             \u001b[0mcountAA\u001b[0m\u001b[0;34m[\u001b[0m\u001b[0mi\u001b[0m\u001b[0;34m]\u001b[0m\u001b[0;34m+=\u001b[0m\u001b[0;36m1\u001b[0m\u001b[0;34m\u001b[0m\u001b[0;34m\u001b[0m\u001b[0m\n\u001b[1;32m      8\u001b[0m         \u001b[0;32mreturn\u001b[0m \u001b[0mcountAA\u001b[0m\u001b[0;34m[\u001b[0m\u001b[0mi\u001b[0m\u001b[0;34m]\u001b[0m\u001b[0;34m\u001b[0m\u001b[0;34m\u001b[0m\u001b[0m\n",
      "\u001b[0;31mTypeError\u001b[0m: 'NoneType' object is not iterable"
     ]
    }
   ],
   "source": [
    "NumberOfAAPerChain (AAInChainList)"
   ]
  },
  {
   "cell_type": "code",
   "execution_count": 169,
   "metadata": {},
   "outputs": [],
   "source": [
    "AAInChainList"
   ]
  },
  {
   "cell_type": "code",
   "execution_count": 182,
   "metadata": {},
   "outputs": [],
   "source": [
    "def myNum(x,y):\n",
    "    a=x\n",
    "    b=y\n",
    "    return (a,b)"
   ]
  },
  {
   "cell_type": "code",
   "execution_count": 185,
   "metadata": {},
   "outputs": [],
   "source": [
    "a=myNum(2,3)"
   ]
  },
  {
   "cell_type": "code",
   "execution_count": 186,
   "metadata": {},
   "outputs": [
    {
     "data": {
      "text/plain": [
       "tuple"
      ]
     },
     "execution_count": 186,
     "metadata": {},
     "output_type": "execute_result"
    }
   ],
   "source": [
    "type(a)"
   ]
  },
  {
   "cell_type": "code",
   "execution_count": null,
   "metadata": {},
   "outputs": [],
   "source": [
    "printInfo()"
   ]
  },
  {
   "cell_type": "code",
   "execution_count": null,
   "metadata": {},
   "outputs": [],
   "source": [
    "\"A\" in sheetsDict"
   ]
  },
  {
   "cell_type": "code",
   "execution_count": 47,
   "metadata": {},
   "outputs": [],
   "source": [
    "a=sheetsDict.get(\"A\")\n",
    "b=helixDict.get(\"A\")\n",
    "c=aminoAcidsInChains.get(\"A\")\n",
    "d=167\n",
    "printInfo(\"A\",d,b,a,c)"
   ]
  },
  {
   "cell_type": "code",
   "execution_count": 16,
   "metadata": {},
   "outputs": [
    {
     "name": "stdout",
     "output_type": "stream",
     "text": [
      "\n",
      "         - CHAIN A\n",
      "             Number of amino acids: 167 \n",
      "             Number of helix: 3\n",
      "             Number of sheet: 9 \n",
      "             Sequence: YNFFPRKPKWDKNQITYRIIGYTPDLDPETVDDAFARAFQVWSDVTPLRFSRIHDGEADIMINFGRWEHGDGYPFDGKDGLLAHAFAPGTGVGGDSHFDDDELWTLGKGVGYSLFLVAAHAFGHAMGLEHSQDPGALMAPIYTYTKNFRLSQDDIKGIQELYGASPD\n",
      "             \n",
      "\n",
      "         - CHAIN B\n",
      "             Number of amino acids: 167 \n",
      "             Number of helix: 3\n",
      "             Number of sheet: 9 \n",
      "             Sequence: YNFFPRKPKWDKNQITYRIIGYTPDLDPETVDDAFARAFQVWSDVTPLRFSRIHDGEADIMINFGRWEHGDGYPFDGKDGLLAHAFAPGTGVGGDSHFDDDELWTLGKGVGYSLFLVAAHAFGHAMGLEHSQDPGALMAPIYTYTKNFRLSQDDIKGIQELYGASPD\n",
      "             \n",
      "\n",
      "         - CHAIN A\n",
      "             Number of amino acids: 10 \n",
      "             Number of helix: 0\n",
      "             Number of sheet: 1 \n",
      "             Sequence: ISYGNDALMP\n",
      "             \n",
      "\n",
      "         - CHAIN B\n",
      "             Number of amino acids: 10 \n",
      "             Number of helix: 0\n",
      "             Number of sheet: 1 \n",
      "             Sequence: ISYGNDALMP\n",
      "             \n"
     ]
    }
   ],
   "source": [
    "for i in chainsInProtein:\n",
    "    a=sheetsDict.get(i)\n",
    "    b=helixDict.get(i)\n",
    "    c=aminoAcidsInChains2.get(i)\n",
    "    d=my_dict.get(i)\n",
    "    printInfo(i,d,b,a,c)"
   ]
  },
  {
   "cell_type": "code",
   "execution_count": null,
   "metadata": {},
   "outputs": [],
   "source": []
  },
  {
   "cell_type": "code",
   "execution_count": null,
   "metadata": {},
   "outputs": [],
   "source": []
  },
  {
   "cell_type": "code",
   "execution_count": null,
   "metadata": {},
   "outputs": [],
   "source": []
  },
  {
   "cell_type": "code",
   "execution_count": null,
   "metadata": {},
   "outputs": [],
   "source": []
  },
  {
   "cell_type": "code",
   "execution_count": 118,
   "metadata": {},
   "outputs": [
    {
     "data": {
      "text/plain": [
       "str"
      ]
     },
     "execution_count": 118,
     "metadata": {},
     "output_type": "execute_result"
    }
   ],
   "source": [
    "type(n)"
   ]
  },
  {
   "cell_type": "code",
   "execution_count": null,
   "metadata": {},
   "outputs": [],
   "source": []
  },
  {
   "cell_type": "code",
   "execution_count": null,
   "metadata": {},
   "outputs": [],
   "source": []
  },
  {
   "cell_type": "code",
   "execution_count": null,
   "metadata": {},
   "outputs": [],
   "source": []
  },
  {
   "cell_type": "code",
   "execution_count": null,
   "metadata": {},
   "outputs": [],
   "source": []
  },
  {
   "cell_type": "code",
   "execution_count": null,
   "metadata": {},
   "outputs": [],
   "source": []
  }
 ],
 "metadata": {
  "kernelspec": {
   "display_name": "Python 3",
   "language": "python",
   "name": "python3"
  },
  "language_info": {
   "codemirror_mode": {
    "name": "ipython",
    "version": 3
   },
   "file_extension": ".py",
   "mimetype": "text/x-python",
   "name": "python",
   "nbconvert_exporter": "python",
   "pygments_lexer": "ipython3",
   "version": "3.7.2"
  }
 },
 "nbformat": 4,
 "nbformat_minor": 2
}
