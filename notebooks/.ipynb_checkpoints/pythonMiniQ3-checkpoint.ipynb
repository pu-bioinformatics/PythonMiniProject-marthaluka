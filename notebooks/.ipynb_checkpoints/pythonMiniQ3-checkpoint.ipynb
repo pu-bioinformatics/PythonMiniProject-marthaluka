{
 "cells": [
  {
   "cell_type": "markdown",
   "metadata": {},
   "source": [
    "# Question3\n",
    "Show histogram of amino acids: \n",
    "\n",
    "This option allows to display a histogram based on the number of times an amino acid is in the sequence. \n",
    "\n",
    "For this option consider all the chains in the file as a single set. \n",
    "\n",
    "The user can choose to order the histogram by different methods. "
   ]
  },
  {
   "cell_type": "code",
   "execution_count": 27,
   "metadata": {},
   "outputs": [],
   "source": [
    "my_pdb_file = open (\"../data/3AYU.pdb\", \"r\")\n",
    "\n",
    "def getAllAminoAcids (my_pdb_file):\n",
    "    aaPresentList=[]\n",
    "    for line in my_pdb_file:\n",
    "        if line.startswith('SEQRES'):\n",
    "            aaPresentList.append(line[19:].split())\n",
    "    AminoAcidsInProtein=[]\n",
    "    for aa in aaPresentList:                        #merge the list of lists into one list\n",
    "        AminoAcidsInProtein+=aa\n",
    "        \n",
    "    ListOfPossibleAminoAcids = ['CYS','ASP','SER','GLN','LYS','ILE','PRO','THR','PHE','ASN','GLY','HIS','LEU','ARG','TRP','ALA','VAL','GLU','TYR','MET']\n",
    "    aaFreqDict ={}\n",
    "    for i in ListOfPossibleAminoAcids:              #create an empty dictionary using ListOfPossibleAminoAcids\n",
    "        aaFreqDict[i]= (0)\n",
    "        \n",
    "    for i in AminoAcidsInProtein:\n",
    "        if i in ListOfPossibleAminoAcids:          #count amino acids using dict\n",
    "            aaFreqDict[i]+=1\n",
    "    return aaFreqDict\n",
    "\n",
    "aaFreqDict = getAllAminoAcids (my_pdb_file)\n",
    "\n",
    "def printOptions2 (aaFreqDict):                                        #print out options by the user\n",
    "    print (\"\"\"\n",
    "    Choose an option to order by:\n",
    "         -number of amino acids - ascending (an)\n",
    "         -number of amino acids - descending (dn)\n",
    "         -alphabetically - ascending (aa)\n",
    "         -alphabetically - descending (da)\n",
    "    Order by:\n",
    " \"\"\")\n",
    "    orderByOption = input ()\n",
    "    optionsMenu2 (orderByOption, aaFreqDict)\n",
    "    \n",
    "def optionsMenu2 (orderByOption, aaFreqDict):                             #menu to handle the user input\n",
    "    if orderByOption.lower() in ('an', 'dn', 'aa', 'da'):\n",
    "        if orderByOption.lower() == 'an':                              \n",
    "            numberAscending (aaFreqDict)\n",
    "        elif orderByOption.lower() == 'dn':\n",
    "            numberDescending(aaFreqDict)\n",
    "        elif orderByOption.lower() == 'aa':\n",
    "            alphabetAscending (aaFreqDict)\n",
    "        elif orderByOption.lower() == 'da':\n",
    "            alphabetDescending (aaFreqDict)             \n",
    "    else:\n",
    "        print (\"Wrong choice! \\nPlease try again\")\n",
    "        printOptions2 (aaFreqDict)\n",
    "\n",
    "        \n",
    "star= '*'\n",
    "\n",
    "def numberAscending (aaFreqDict):\n",
    "    for (key, value) in sorted(aaFreqDict.items(), key=lambda item:item[1]):\n",
    "        if value>0:\n",
    "            print (\"%s (%3d): %s\" %(key, value, star*int(value)))\n",
    "\n",
    "def numberDescending(aaFreqDict):  \n",
    "    for (key, value) in sorted(aaFreqDict.items(), key=lambda item:item[1], reverse=True):\n",
    "        if value>0:\n",
    "            print (\"%s (%3d): %s\" %(key, value, star*int(value))) \n",
    "            \n",
    "def alphabetAscending (aaFreqDict):\n",
    "    for key in sorted(aaFreqDict):\n",
    "        if aaFreqDict[key] >0:\n",
    "            print(\"%s (%3d): %s\" %(key, aaFreqDict[key], star*int(aaFreqDict[key])))            \n",
    "\n",
    "def alphabetDescending (aaFreqDict):\n",
    "    for key in sorted(aaFreqDict,reverse=True):\n",
    "        if aaFreqDict[key] >0:\n",
    "            print(\"%s (%3d): %s\" %(key, aaFreqDict[key], star*int(aaFreqDict[key])))           "
   ]
  },
  {
   "cell_type": "code",
   "execution_count": null,
   "metadata": {},
   "outputs": [],
   "source": []
  },
  {
   "cell_type": "code",
   "execution_count": 28,
   "metadata": {},
   "outputs": [
    {
     "name": "stdout",
     "output_type": "stream",
     "text": [
      "\n",
      "    Choose an option to order by:\n",
      "         -number of amino acids - ascending (an)\n",
      "         -number of amino acids - descending (dn)\n",
      "         -alphabetically - ascending (aa)\n",
      "         -alphabetically - descending (da)\n",
      "    Order by:\n",
      " \n"
     ]
    },
    {
     "name": "stdin",
     "output_type": "stream",
     "text": [
      " an\n"
     ]
    },
    {
     "name": "stdout",
     "output_type": "stream",
     "text": [
      "TRP (  4): ****\n",
      "MET (  4): ****\n",
      "GLN (  5): *****\n",
      "ASN (  5): *****\n",
      "VAL (  6): ******\n",
      "GLU (  6): ******\n",
      "LYS (  7): *******\n",
      "HIS (  7): *******\n",
      "ARG (  7): *******\n",
      "SER (  8): ********\n",
      "THR (  8): ********\n",
      "TYR (  9): *********\n",
      "ILE ( 10): **********\n",
      "PRO ( 11): ***********\n",
      "PHE ( 12): ************\n",
      "LEU ( 13): *************\n",
      "ALA ( 15): ***************\n",
      "ASP ( 20): ********************\n",
      "GLY ( 20): ********************\n"
     ]
    }
   ],
   "source": [
    "printOptions2(aaFreqDict)"
   ]
  },
  {
   "cell_type": "code",
   "execution_count": null,
   "metadata": {},
   "outputs": [],
   "source": []
  },
  {
   "cell_type": "code",
   "execution_count": null,
   "metadata": {},
   "outputs": [],
   "source": []
  }
 ],
 "metadata": {
  "kernelspec": {
   "display_name": "Python 3",
   "language": "python",
   "name": "python3"
  },
  "language_info": {
   "codemirror_mode": {
    "name": "ipython",
    "version": 3
   },
   "file_extension": ".py",
   "mimetype": "text/x-python",
   "name": "python",
   "nbconvert_exporter": "python",
   "pygments_lexer": "ipython3",
   "version": "3.7.2"
  }
 },
 "nbformat": 4,
 "nbformat_minor": 2
}
