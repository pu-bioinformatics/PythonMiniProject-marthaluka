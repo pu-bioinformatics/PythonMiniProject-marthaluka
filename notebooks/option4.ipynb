{
 "cells": [
  {
   "cell_type": "markdown",
   "metadata": {},
   "source": [
    "# Option4\n",
    "## Display Secondary Structure:\n",
    "For each chain in the loaded pdb, print a representation of the secondary structure using the character ‘/’ to represent an amino acid that is part of a helix, ‘|’ for one that is part of a sheet, and ‘-’ for any other. \n",
    "\n",
    "Each line should have a maximum of 80 characters. \n",
    "\n",
    "Over the representation, the sequence should be displayed, and under it, a tag indicating the identifier of the substructure should be aligned. \n",
    "\n",
    "Execution Example:"
   ]
  },
  {
   "cell_type": "code",
   "execution_count": 3,
   "metadata": {},
   "outputs": [],
   "source": [
    "my_pdb_file = open (\"../data/3AYU.pdb\", \"r\")\n",
    "chainsInProtein=['A','B']\n",
    "aminoAcidsInChains2={'A': 'YNFFPRKPKWDKNQITYRIIGYTPDLDPETVDDAFARAFQVWSDVTPLRF\\nSRIHDGEADIMINFGRWEHGDGYPFDGKDGLLAHAFAPGTGVGGDSHFDD\\nDELWTLGKGVGYSLFLVAAHAFGHAMGLEHSQDPGALMAPIYTYTKNFRL\\nSQDDIKGIQELYGASPD',\n",
    " 'B': 'ISYGNDALMP'}\n",
    "aaNumber={'A': '167', 'B': '10'}\n",
    "\n",
    "\n",
    "def multiToSingleLine ( aminoAcidsInChains2, chainsInProtein):\n",
    "    \"This converts the multiline aa sequence earlier generated (by option 2-information) to a single line aa sequence\"\n",
    "    \n",
    "    AAInChainsSingleLine ={}\n",
    "    for i in chainsInProtein:\n",
    "        multiLine=aminoAcidsInChains2.get(i)\n",
    "        singleLine=multiLine.replace('\\n','')\n",
    "        AAInChainsSingleLine[i]=singleLine       \n",
    "    return AAInChainsSingleLine\n",
    "\n",
    "\n",
    "\n",
    "\n",
    "def helixStructure (my_pdb_file, aaNumber, chainsInProtein):\n",
    "    \"\"\" This function creates a dictionary for the chains in the protein and assigns helix symbols at respective \n",
    "    postions of the sec structures list\"\"\"\n",
    "    \n",
    "    secStrListDict={}\n",
    "    for chain in chainsInProtein:    \n",
    "        secStrListDict[chain] = ['-']*int(aaNumber[chain])\n",
    "        helixSymList=[]\n",
    "        for line in my_pdb_file:\n",
    "            if line.startswith(\"HELIX\") and line[19] in chainsInProtein:\n",
    "                helixSymList=[\"/\"]*(int(line[45:].strip()))\n",
    "                secStrListDict[line[19]][int(line[20:27].strip())-1:int(line[32:37].strip())]=helixSymList\n",
    "    \n",
    "    return secStrListDict\n",
    "\n",
    "\n",
    "\n",
    "\n",
    "def sheetStructure (my_pdb_file, aaNumber, chainsInProtein):\n",
    "    \"\"\" This function creates a dictionary for the chains in the protein and assigns sheet symbols at respective \n",
    "    postions of the sec structures list\"\"\"\n",
    "    \n",
    "    secStrListDictHelices=helixStructure (my_pdb_file, aaNumber, chainsInProtein)\n",
    "    my_pdb_file.seek(0)\n",
    "    for chain in chainsInProtein:     \n",
    "        sheetSymList=[]\n",
    "        for line in my_pdb_file:\n",
    "            if line.startswith(\"SHEET\") and line[21] in chainsInProtein:\n",
    "                sheetSymList=[\"|\"]*((int(line[34:38].strip())-int(line[22:28].strip()))+1)\n",
    "                secStrListDictHelices[line[21]][int(line[22:28].strip())-1:int(line[34:38].strip())]=sheetSymList\n",
    "    \n",
    "        secStrListDictHelices[chain]=''.join(secStrListDictHelices[chain])\n",
    "    return secStrListDictHelices\n",
    "\n",
    "\n",
    "\n",
    "\n",
    "def helixTag (chainsInProtein, my_pdb_file, aaNumber):\n",
    "    \"Give a suitable tag at the beginning of every helical secondary structure\"\n",
    "    my_pdb_file.seek(0)\n",
    "    tagListDict={}\n",
    "    for chain in chainsInProtein: \n",
    "        tagListDict[chain]=[' ']*int(aaNumber[chain])\n",
    "        tagList=[]\n",
    "        for line in my_pdb_file:\n",
    "            if line.startswith(\"HELIX\") and line[19] in chainsInProtein:\n",
    "                tag=line[11:15].strip()\n",
    "                tagListDict[line[19]][int(line[20:27].strip())-1]=tag\n",
    "    return tagListDict\n",
    "\n",
    "\n",
    "\n",
    "\n",
    "def sheetTag(chainsInProtein, my_pdb_file, aaNumber):\n",
    "    \"Give a suitable tag at the beginning of every sheet secondary structure\"\n",
    "    tagListDict=helixTag (chainsInProtein, my_pdb_file, aaNumber)\n",
    "    my_pdb_file.seek(0)\n",
    "    for chain in chainsInProtein: \n",
    "        tagList=[]\n",
    "       \n",
    "        for line in my_pdb_file: \n",
    "            if line.startswith(\"SHEET\") and line[21] in chainsInProtein:\n",
    "                tag=''.join(line[5:15].split())\n",
    "                tagListDict[line[21]][int(line[22:28].strip())-1:int(line[22:28].strip())-1+len(tag)]=tag\n",
    "             \n",
    "                \n",
    "        tagListDict[chain]= ''.join(tagListDict[chain])\n",
    "    return tagListDict\n",
    "\n",
    "\n",
    "\n",
    "\n",
    "\n",
    "def fileName (my_pdb_file):                           #Title of the pdb file\n",
    "    \"Extract the pdb id from the open file\"\n",
    "    my_pdb_file.seek(0)\n",
    "    for line in my_pdb_file: \n",
    "        if line.startswith('HEADER'):\n",
    "            return line[59:].strip()\n",
    "\n",
    "\n",
    "        \n",
    "\n",
    "def countLastPosition (chainsInProtein, aaNumber):\n",
    "    \"Create a label of the last aa position in every chain\"\n",
    "    lastPosDict={}\n",
    "    for chain in chainsInProtein: \n",
    "        lastPosDict[chain]=[' ']*int(aaNumber[chain])\n",
    "        lastPos='('+ aaNumber[chain]+')'\n",
    "        lastPosDict[chain][-len(lastPos):-1]=lastPos\n",
    "        lastPosDict[chain]=''.join(lastPosDict[chain])        \n",
    "    return lastPosDict\n",
    "\n",
    "\n",
    "def countFirstPosition (chainsInProtein, aaNumber):\n",
    "    \"Create a label of the first aa position in every chain\"\n",
    "    firstPosDict={}\n",
    "    for chain in chainsInProtein: \n",
    "        firstPosDict[chain]=[' ']*int(aaNumber[chain])\n",
    "        firstPos='(1)'\n",
    "        firstPosDict[chain][0]=firstPos\n",
    "        firstPosDict[chain]=''.join(firstPosDict[chain])\n",
    "    return firstPosDict\n",
    "\n",
    "\n",
    "\n",
    "\n",
    "def generateMultiLine (chainsInProtein, singleLine):\n",
    "    \"\"\"For ease of printing line for line, this function generates a multiline sequence from the necessary string objects\n",
    "    (not more than 80)\"\"\"\n",
    "    for chain in chainsInProtein:\n",
    "        count=0\n",
    "        multiLineSeq=\"\"\n",
    "        for i in singleLine[chain]:\n",
    "            count+=1\n",
    "            multiLineSeq+=i\n",
    "            if count% 80==0:\n",
    "                multiLineSeq+=\"\\n\"\n",
    "            singleLine[chain]=multiLineSeq\n",
    "            multiLine=singleLine\n",
    "    \n",
    "    return multiLine\n",
    "\n",
    "            \n",
    "def printSecStr (chainsInProtein):\n",
    "    \"\"\"Print out the secondary structure\"\"\"\n",
    "    aminoAcidsSeqDict=multiToSingleLine (aminoAcidsInChains2, chainsInProtein)\n",
    "    secStrListDictAll= sheetStructure (my_pdb_file, aaNumber, chainsInProtein)\n",
    "    tagListDictAll = sheetTag(chainsInProtein, my_pdb_file, aaNumber)\n",
    "    firstPosDict=countFirstPosition (chainsInProtein, aaNumber)\n",
    "    lastPosDict=countLastPosition (chainsInProtein, aaNumber)\n",
    "    \n",
    "    \n",
    "    aminoAcidsSeqDictMultiLine=generateMultiLine (chainsInProtein, aminoAcidsSeqDict)  #generate multiple lines of all the suitable dictionaries \n",
    "    secStrListDictAllMultiLine=generateMultiLine (chainsInProtein, secStrListDictAll)    #so as to print out the secondary structure\n",
    "    tagListDictAllMultiLine=generateMultiLine (chainsInProtein, tagListDictAll)\n",
    "    firstPosDictMultiLine=generateMultiLine (chainsInProtein, firstPosDict)\n",
    "    lastPosDictMultiLine=generateMultiLine (chainsInProtein, lastPosDict)\n",
    "    \n",
    "    print(\"Secondary structure of the PDB ID: %s\" %fileName (my_pdb_file))\n",
    "    for chain in chainsInProtein:\n",
    "        print(\"chain %s:\" %chain)\n",
    "        line1=aminoAcidsSeqDictMultiLine[chain].split('\\n')\n",
    "        line2=secStrListDictAllMultiLine[chain].split('\\n')\n",
    "        line3=tagListDictAllMultiLine[chain].split('\\n')\n",
    "        line4=firstPosDictMultiLine[chain].split('\\n')\n",
    "        line5=lastPosDictMultiLine[chain].split('\\n')\n",
    "        \n",
    "        count=0\n",
    "        for i in line1, line2, line3, line4:\n",
    "            while count < len(line1):\n",
    "                print(line4[count])\n",
    "                print(line1[count])\n",
    "                print(line2[count])\n",
    "                print(line3[count])\n",
    "                print(line5[count])\n",
    "                count+=1\n",
    "    "
   ]
  },
  {
   "cell_type": "code",
   "execution_count": 4,
   "metadata": {},
   "outputs": [
    {
     "name": "stdout",
     "output_type": "stream",
     "text": [
      "Secondary structure of the PDB ID: 3AYU\n",
      "chain A:\n",
      "(1)                                                                             \n",
      "YNFFPRKPKWDKNQITYRIIGYTPDLDPETVDDAFARAFQVWSDVTPLRFSRIHDGEADIMINFGRWEHGDGYPFDGKDG\n",
      "-||----------||||||-------//////////////////----||||-------||||||---------------\n",
      " 1A          2B           1                     1B         3B                   \n",
      "                                                                                \n",
      "                                                                                \n",
      "LLAHAFAPGTGVGGDSHFDDDELWTLGKGVGYSLFLVAAHAFGHAMGLEHSQDPGALMAPIYTYTKNFRLSQDDIKGIQE\n",
      "--||||---------||||----||------||/////////////-||---------------------//////////\n",
      "  5B           4B      1C      2C2             2A                     3         \n",
      "                                                                                \n",
      "         \n",
      "LYGASPD\n",
      "///----\n",
      "       \n",
      "  (167) \n",
      "chain B:\n",
      "(1)         \n",
      "ISYGNDALMP\n",
      "------||--\n",
      "      6B  \n",
      "      (10) \n"
     ]
    }
   ],
   "source": [
    "printSecStr (chainsInProtein)"
   ]
  },
  {
   "cell_type": "code",
   "execution_count": null,
   "metadata": {},
   "outputs": [],
   "source": []
  },
  {
   "cell_type": "code",
   "execution_count": null,
   "metadata": {},
   "outputs": [],
   "source": []
  },
  {
   "cell_type": "code",
   "execution_count": null,
   "metadata": {},
   "outputs": [],
   "source": []
  },
  {
   "cell_type": "code",
   "execution_count": null,
   "metadata": {},
   "outputs": [],
   "source": []
  },
  {
   "cell_type": "code",
   "execution_count": 35,
   "metadata": {},
   "outputs": [
    {
     "data": {
      "text/plain": [
       "{'A': 'YNFFPRKPKWDKNQITYRIIGYTPDLDPETVDDAFARAFQVWSDVTPLRFSRIHDGEADIMINFGRWEHGDGYPFDGKDG\\nLLAHAFAPGTGVGGDSHFDDDELWTLGKGVGYSLFLVAAHAFGHAMGLEHSQDPGALMAPIYTYTKNFRLSQDDIKGIQE\\nLYGASPD',\n",
       " 'B': 'ISYGNDALMP'}"
      ]
     },
     "execution_count": 35,
     "metadata": {},
     "output_type": "execute_result"
    }
   ],
   "source": [
    "generateMultiLine (chainsInProtein, aminoAcidsSeqDict)"
   ]
  },
  {
   "cell_type": "code",
   "execution_count": null,
   "metadata": {},
   "outputs": [],
   "source": []
  },
  {
   "cell_type": "code",
   "execution_count": 7,
   "metadata": {},
   "outputs": [
    {
     "ename": "NameError",
     "evalue": "name 'aminoAcidsSeqSingleLineDict' is not defined",
     "output_type": "error",
     "traceback": [
      "\u001b[0;31m---------------------------------------------------------------------------\u001b[0m",
      "\u001b[0;31mNameError\u001b[0m                                 Traceback (most recent call last)",
      "\u001b[0;32m<ipython-input-7-42a05a3c3ef3>\u001b[0m in \u001b[0;36m<module>\u001b[0;34m\u001b[0m\n\u001b[0;32m----> 1\u001b[0;31m \u001b[0mprint\u001b[0m\u001b[0;34m(\u001b[0m\u001b[0maminoAcidsSeqSingleLineDict\u001b[0m\u001b[0;34m)\u001b[0m\u001b[0;34m\u001b[0m\u001b[0;34m\u001b[0m\u001b[0m\n\u001b[0m",
      "\u001b[0;31mNameError\u001b[0m: name 'aminoAcidsSeqSingleLineDict' is not defined"
     ]
    }
   ],
   "source": []
  },
  {
   "cell_type": "code",
   "execution_count": null,
   "metadata": {},
   "outputs": [],
   "source": []
  },
  {
   "cell_type": "code",
   "execution_count": null,
   "metadata": {},
   "outputs": [],
   "source": []
  },
  {
   "cell_type": "code",
   "execution_count": 38,
   "metadata": {},
   "outputs": [
    {
     "name": "stdout",
     "output_type": "stream",
     "text": [
      "chain A\n",
      "YNFFPRKPKWDKNQITYRIIGYTPDLDPETVDDAFARAFQVWSDVTPLRF\n",
      "Martha is crazy\n",
      "SRIHDGEADIMINFGRWEHGDGYPFDGKDGLLAHAFAPGTGVGGDSHFDD\n",
      "But she's also kinda smart\n",
      "DELWTLGKGVGYSLFLVAAHAFGHAMGLEHSQDPGALMAPIYTYTKNFRL\n",
      "So be on the watch\n",
      "SQDDIKGIQELYGASPD\n",
      "Okay bye\n",
      "chain B\n",
      "ISYGNDALMP\n",
      "Martha is crazy\n"
     ]
    }
   ],
   "source": [
    "aminoAcidsInChains2={'A': 'YNFFPRKPKWDKNQITYRIIGYTPDLDPETVDDAFARAFQVWSDVTPLRF\\nSRIHDGEADIMINFGRWEHGDGYPFDGKDGLLAHAFAPGTGVGGDSHFDD\\nDELWTLGKGVGYSLFLVAAHAFGHAMGLEHSQDPGALMAPIYTYTKNFRL\\nSQDDIKGIQELYGASPD',\n",
    " 'B': 'ISYGNDALMP'}\n",
    "chainsInProtein=['A','B']\n",
    "mylist3=['Martha is crazy', \"But she's also kinda smart\", \"So be on the watch\", \"Okay bye\" ]\n",
    "for chain in chainsInProtein:\n",
    "    print(\"chain %s\"%chain)\n",
    "    aaList=aminoAcidsInChains2[chain].split()\n",
    "    count=0\n",
    "    for i in aaList,mylist3:\n",
    "        while count < len(aaList):\n",
    "            print (aaList[count])\n",
    "            print(mylist3[count])\n",
    "            count+=1\n",
    "        \n",
    "    "
   ]
  },
  {
   "cell_type": "code",
   "execution_count": 63,
   "metadata": {},
   "outputs": [
    {
     "data": {
      "text/plain": [
       "4"
      ]
     },
     "execution_count": 63,
     "metadata": {},
     "output_type": "execute_result"
    }
   ],
   "source": [
    "len(aaList)"
   ]
  },
  {
   "cell_type": "code",
   "execution_count": null,
   "metadata": {},
   "outputs": [],
   "source": []
  },
  {
   "cell_type": "code",
   "execution_count": null,
   "metadata": {},
   "outputs": [],
   "source": []
  },
  {
   "cell_type": "code",
   "execution_count": null,
   "metadata": {},
   "outputs": [],
   "source": []
  },
  {
   "cell_type": "code",
   "execution_count": null,
   "metadata": {},
   "outputs": [],
   "source": []
  },
  {
   "cell_type": "code",
   "execution_count": 6,
   "metadata": {},
   "outputs": [
    {
     "name": "stdout",
     "output_type": "stream",
     "text": [
      "7\n",
      "8\n"
     ]
    },
    {
     "data": {
      "text/plain": [
       "[' ', ' ', ' ', ' ', ' ', 'a', 'a', 'a']"
      ]
     },
     "execution_count": 6,
     "metadata": {},
     "output_type": "execute_result"
    }
   ],
   "source": [
    "my_list = [' ', ' ', ' ', ' ', ' ', ' ', ' ']\n",
    "print(len(my_list))\n",
    "list3=['a']*3\n",
    "list4=[2,2,2,2,2]\n",
    "my_list[5:8]=list3\n",
    "print(len(my_list))\n",
    "#my_list.append((\"martha\")*2)\n",
    "#my_list[-5:-1]=list4\n",
    "my_list"
   ]
  },
  {
   "cell_type": "code",
   "execution_count": 26,
   "metadata": {},
   "outputs": [
    {
     "ename": "IndexError",
     "evalue": "list assignment index out of range",
     "output_type": "error",
     "traceback": [
      "\u001b[0;31m---------------------------------------------------------------------------\u001b[0m",
      "\u001b[0;31mIndexError\u001b[0m                                Traceback (most recent call last)",
      "\u001b[0;32m<ipython-input-26-c14400414acc>\u001b[0m in \u001b[0;36m<module>\u001b[0;34m\u001b[0m\n\u001b[0;32m----> 1\u001b[0;31m \u001b[0mlist4\u001b[0m\u001b[0;34m[\u001b[0m\u001b[0;36m9\u001b[0m\u001b[0;34m]\u001b[0m\u001b[0;34m=\u001b[0m\u001b[0;36m100\u001b[0m\u001b[0;34m\u001b[0m\u001b[0;34m\u001b[0m\u001b[0m\n\u001b[0m\u001b[1;32m      2\u001b[0m \u001b[0mlist4\u001b[0m\u001b[0;34m\u001b[0m\u001b[0;34m\u001b[0m\u001b[0m\n",
      "\u001b[0;31mIndexError\u001b[0m: list assignment index out of range"
     ]
    }
   ],
   "source": [
    "list4[9]=100\n",
    "list4"
   ]
  },
  {
   "cell_type": "code",
   "execution_count": 96,
   "metadata": {},
   "outputs": [
    {
     "data": {
      "text/plain": [
       "\u001b[0;31mSignature:\u001b[0m \u001b[0mlist\u001b[0m\u001b[0;34m.\u001b[0m\u001b[0mappend\u001b[0m\u001b[0;34m(\u001b[0m\u001b[0mself\u001b[0m\u001b[0;34m,\u001b[0m \u001b[0mobject\u001b[0m\u001b[0;34m,\u001b[0m \u001b[0;34m/\u001b[0m\u001b[0;34m)\u001b[0m\u001b[0;34m\u001b[0m\u001b[0;34m\u001b[0m\u001b[0m\n",
       "\u001b[0;31mDocstring:\u001b[0m Append object to the end of the list.\n",
       "\u001b[0;31mType:\u001b[0m      method_descriptor\n"
      ]
     },
     "metadata": {},
     "output_type": "display_data"
    }
   ],
   "source": [
    "?list.append"
   ]
  },
  {
   "cell_type": "code",
   "execution_count": null,
   "metadata": {},
   "outputs": [],
   "source": []
  },
  {
   "cell_type": "code",
   "execution_count": 1,
   "metadata": {},
   "outputs": [
    {
     "data": {
      "text/plain": [
       "'gsvdfvvdgfgshdgt'"
      ]
     },
     "execution_count": 1,
     "metadata": {},
     "output_type": "execute_result"
    }
   ],
   "source": [
    "a=\"gsvdfv\\nvdgfgs\\nhdgt\"\n",
    "\n",
    "b=a.replace('\\n', '')\n",
    "\n",
    "\n",
    "b"
   ]
  },
  {
   "cell_type": "code",
   "execution_count": 31,
   "metadata": {},
   "outputs": [
    {
     "data": {
      "text/plain": [
       "\u001b[0;31mSignature:\u001b[0m \u001b[0mstr\u001b[0m\u001b[0;34m.\u001b[0m\u001b[0mreplace\u001b[0m\u001b[0;34m(\u001b[0m\u001b[0mself\u001b[0m\u001b[0;34m,\u001b[0m \u001b[0mold\u001b[0m\u001b[0;34m,\u001b[0m \u001b[0mnew\u001b[0m\u001b[0;34m,\u001b[0m \u001b[0mcount\u001b[0m\u001b[0;34m=\u001b[0m\u001b[0;34m-\u001b[0m\u001b[0;36m1\u001b[0m\u001b[0;34m,\u001b[0m \u001b[0;34m/\u001b[0m\u001b[0;34m)\u001b[0m\u001b[0;34m\u001b[0m\u001b[0;34m\u001b[0m\u001b[0m\n",
       "\u001b[0;31mDocstring:\u001b[0m\n",
       "Return a copy with all occurrences of substring old replaced by new.\n",
       "\n",
       "  count\n",
       "    Maximum number of occurrences to replace.\n",
       "    -1 (the default value) means replace all occurrences.\n",
       "\n",
       "If the optional argument count is given, only the first count occurrences are\n",
       "replaced.\n",
       "\u001b[0;31mType:\u001b[0m      method_descriptor\n"
      ]
     },
     "metadata": {},
     "output_type": "display_data"
    }
   ],
   "source": [
    "?str.replace"
   ]
  },
  {
   "cell_type": "code",
   "execution_count": null,
   "metadata": {},
   "outputs": [],
   "source": []
  },
  {
   "cell_type": "code",
   "execution_count": null,
   "metadata": {},
   "outputs": [],
   "source": [
    "printFile (my_pdb_file)"
   ]
  },
  {
   "cell_type": "code",
   "execution_count": null,
   "metadata": {},
   "outputs": [],
   "source": [
    "helixSymbol='/'\n",
    "sheetSymbol='|'\n",
    "otherSymbol='-'"
   ]
  },
  {
   "cell_type": "code",
   "execution_count": 2,
   "metadata": {},
   "outputs": [
    {
     "ename": "SyntaxError",
     "evalue": "EOL while scanning string literal (<ipython-input-2-e573f392b23a>, line 2)",
     "output_type": "error",
     "traceback": [
      "\u001b[0;36m  File \u001b[0;32m\"<ipython-input-2-e573f392b23a>\"\u001b[0;36m, line \u001b[0;32m2\u001b[0m\n\u001b[0;31m    aSymbol= '\\'\u001b[0m\n\u001b[0m                ^\u001b[0m\n\u001b[0;31mSyntaxError\u001b[0m\u001b[0;31m:\u001b[0m EOL while scanning string literal\n"
     ]
    }
   ],
   "source": [
    "a=\"acscscscsaasa\"\n",
    "aSymbol= '\\'\n",
    "\n",
    "cSymbol= '-'\n",
    "\n",
    "for i in a:\n",
    "    print (i)"
   ]
  },
  {
   "cell_type": "code",
   "execution_count": 4,
   "metadata": {},
   "outputs": [
    {
     "ename": "SyntaxError",
     "evalue": "EOL while scanning string literal (<ipython-input-4-32dfaf3936be>, line 1)",
     "output_type": "error",
     "traceback": [
      "\u001b[0;36m  File \u001b[0;32m\"<ipython-input-4-32dfaf3936be>\"\u001b[0;36m, line \u001b[0;32m1\u001b[0m\n\u001b[0;31m    aSymbol= ('\\')\u001b[0m\n\u001b[0m                  ^\u001b[0m\n\u001b[0;31mSyntaxError\u001b[0m\u001b[0;31m:\u001b[0m EOL while scanning string literal\n"
     ]
    }
   ],
   "source": [
    "aSymbol= ('\\')"
   ]
  },
  {
   "cell_type": "code",
   "execution_count": 2,
   "metadata": {},
   "outputs": [],
   "source": [
    "\n"
   ]
  },
  {
   "cell_type": "code",
   "execution_count": null,
   "metadata": {},
   "outputs": [],
   "source": []
  },
  {
   "cell_type": "code",
   "execution_count": null,
   "metadata": {},
   "outputs": [],
   "source": []
  },
  {
   "cell_type": "code",
   "execution_count": null,
   "metadata": {},
   "outputs": [],
   "source": []
  },
  {
   "cell_type": "code",
   "execution_count": null,
   "metadata": {},
   "outputs": [],
   "source": []
  }
 ],
 "metadata": {
  "kernelspec": {
   "display_name": "Python 3",
   "language": "python",
   "name": "python3"
  },
  "language_info": {
   "codemirror_mode": {
    "name": "ipython",
    "version": 3
   },
   "file_extension": ".py",
   "mimetype": "text/x-python",
   "name": "python",
   "nbconvert_exporter": "python",
   "pygments_lexer": "ipython3",
   "version": "3.7.2"
  }
 },
 "nbformat": 4,
 "nbformat_minor": 2
}
